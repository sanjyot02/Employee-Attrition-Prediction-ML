{
 "cells": [
  {
   "cell_type": "code",
   "execution_count": 12,
   "id": "7e65dfae",
   "metadata": {},
   "outputs": [],
   "source": [
    "import os\n",
    "import pandas as pd\n",
    "import matplotlib.pyplot as plt\n",
    "import seaborn as sns\n",
    "from utils import load_performance"
   ]
  },
  {
   "cell_type": "code",
   "execution_count": 13,
   "id": "c7c9a2b9",
   "metadata": {},
   "outputs": [],
   "source": [
    "import sys\n",
    "sys.path.append(r\"C:\\Users\\sanjy\\Downloads\\Employee_Attrition_Prediction\")"
   ]
  },
  {
   "cell_type": "code",
   "execution_count": 14,
   "id": "28118c97",
   "metadata": {},
   "outputs": [],
   "source": [
    "models_dict = load_performance(r\"C:\\Users\\sanjy\\Downloads\\Employee_Attrition_Prediction\\best_models.pkl\")"
   ]
  },
  {
   "cell_type": "code",
   "execution_count": 15,
   "id": "55ab18c1",
   "metadata": {},
   "outputs": [],
   "source": [
    "df = pd.DataFrame(models_dict).T"
   ]
  },
  {
   "cell_type": "code",
   "execution_count": 16,
   "id": "a3ad5cfe",
   "metadata": {},
   "outputs": [
    {
     "data": {
      "text/html": [
       "<div>\n",
       "<style scoped>\n",
       "    .dataframe tbody tr th:only-of-type {\n",
       "        vertical-align: middle;\n",
       "    }\n",
       "\n",
       "    .dataframe tbody tr th {\n",
       "        vertical-align: top;\n",
       "    }\n",
       "\n",
       "    .dataframe thead th {\n",
       "        text-align: right;\n",
       "    }\n",
       "</style>\n",
       "<table border=\"1\" class=\"dataframe\">\n",
       "  <thead>\n",
       "    <tr style=\"text-align: right;\">\n",
       "      <th></th>\n",
       "      <th>accuracy</th>\n",
       "      <th>precision</th>\n",
       "      <th>recall</th>\n",
       "      <th>f1</th>\n",
       "    </tr>\n",
       "  </thead>\n",
       "  <tbody>\n",
       "    <tr>\n",
       "      <th>DT_imbalanced</th>\n",
       "      <td>0.834694</td>\n",
       "      <td>0.429333</td>\n",
       "      <td>0.130496</td>\n",
       "      <td>0.191331</td>\n",
       "    </tr>\n",
       "    <tr>\n",
       "      <th>KNN_imbalanced</th>\n",
       "      <td>0.848299</td>\n",
       "      <td>0.771429</td>\n",
       "      <td>0.088830</td>\n",
       "      <td>0.157362</td>\n",
       "    </tr>\n",
       "    <tr>\n",
       "      <th>LR_imbalanced</th>\n",
       "      <td>0.874830</td>\n",
       "      <td>0.752972</td>\n",
       "      <td>0.345922</td>\n",
       "      <td>0.471772</td>\n",
       "    </tr>\n",
       "    <tr>\n",
       "      <th>RF_imbalanced</th>\n",
       "      <td>0.861905</td>\n",
       "      <td>0.841220</td>\n",
       "      <td>0.181472</td>\n",
       "      <td>0.296389</td>\n",
       "    </tr>\n",
       "    <tr>\n",
       "      <th>SVM_imbalanced</th>\n",
       "      <td>0.867347</td>\n",
       "      <td>0.741336</td>\n",
       "      <td>0.283067</td>\n",
       "      <td>0.406212</td>\n",
       "    </tr>\n",
       "  </tbody>\n",
       "</table>\n",
       "</div>"
      ],
      "text/plain": [
       "                accuracy  precision    recall        f1\n",
       "DT_imbalanced   0.834694   0.429333  0.130496  0.191331\n",
       "KNN_imbalanced  0.848299   0.771429  0.088830  0.157362\n",
       "LR_imbalanced   0.874830   0.752972  0.345922  0.471772\n",
       "RF_imbalanced   0.861905   0.841220  0.181472  0.296389\n",
       "SVM_imbalanced  0.867347   0.741336  0.283067  0.406212"
      ]
     },
     "execution_count": 16,
     "metadata": {},
     "output_type": "execute_result"
    }
   ],
   "source": [
    "df"
   ]
  }
 ],
 "metadata": {
  "kernelspec": {
   "display_name": "base",
   "language": "python",
   "name": "python3"
  },
  "language_info": {
   "codemirror_mode": {
    "name": "ipython",
    "version": 3
   },
   "file_extension": ".py",
   "mimetype": "text/x-python",
   "name": "python",
   "nbconvert_exporter": "python",
   "pygments_lexer": "ipython3",
   "version": "3.12.7"
  }
 },
 "nbformat": 4,
 "nbformat_minor": 5
}
